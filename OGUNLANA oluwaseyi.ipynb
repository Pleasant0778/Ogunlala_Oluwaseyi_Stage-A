{
 "cells": [
  {
   "cell_type": "code",
   "execution_count": 5,
   "metadata": {},
   "outputs": [],
   "source": [
    "import pandas as pd\n",
    "import warnings\n",
    "warnings.filterwarnings('ignore')"
   ]
  },
  {
   "cell_type": "code",
   "execution_count": 2,
   "metadata": {
    "scrolled": true
   },
   "outputs": [
    {
     "data": {
      "text/html": [
       "<div>\n",
       "<style scoped>\n",
       "    .dataframe tbody tr th:only-of-type {\n",
       "        vertical-align: middle;\n",
       "    }\n",
       "\n",
       "    .dataframe tbody tr th {\n",
       "        vertical-align: top;\n",
       "    }\n",
       "\n",
       "    .dataframe thead th {\n",
       "        text-align: right;\n",
       "    }\n",
       "</style>\n",
       "<table border=\"1\" class=\"dataframe\">\n",
       "  <thead>\n",
       "    <tr style=\"text-align: right;\">\n",
       "      <th></th>\n",
       "      <th>Area Code</th>\n",
       "      <th>Area</th>\n",
       "      <th>Item Code</th>\n",
       "      <th>Item</th>\n",
       "      <th>Element Code</th>\n",
       "      <th>Element</th>\n",
       "      <th>Unit</th>\n",
       "      <th>Y2014</th>\n",
       "      <th>Y2015</th>\n",
       "      <th>Y2016</th>\n",
       "      <th>Y2017</th>\n",
       "      <th>Y2018</th>\n",
       "    </tr>\n",
       "  </thead>\n",
       "  <tbody>\n",
       "    <tr>\n",
       "      <th>0</th>\n",
       "      <td>4</td>\n",
       "      <td>Algeria</td>\n",
       "      <td>2501</td>\n",
       "      <td>Population</td>\n",
       "      <td>511</td>\n",
       "      <td>Total Population - Both sexes</td>\n",
       "      <td>1000 persons</td>\n",
       "      <td>38924.00</td>\n",
       "      <td>39728.00</td>\n",
       "      <td>40551.00</td>\n",
       "      <td>41389.00</td>\n",
       "      <td>42228.00</td>\n",
       "    </tr>\n",
       "    <tr>\n",
       "      <th>1</th>\n",
       "      <td>4</td>\n",
       "      <td>Algeria</td>\n",
       "      <td>2501</td>\n",
       "      <td>Population</td>\n",
       "      <td>5301</td>\n",
       "      <td>Domestic supply quantity</td>\n",
       "      <td>1000 tonnes</td>\n",
       "      <td>0.00</td>\n",
       "      <td>0.00</td>\n",
       "      <td>0.00</td>\n",
       "      <td>0.00</td>\n",
       "      <td>0.00</td>\n",
       "    </tr>\n",
       "    <tr>\n",
       "      <th>2</th>\n",
       "      <td>4</td>\n",
       "      <td>Algeria</td>\n",
       "      <td>2901</td>\n",
       "      <td>Grand Total</td>\n",
       "      <td>664</td>\n",
       "      <td>Food supply (kcal/capita/day)</td>\n",
       "      <td>kcal/capita/day</td>\n",
       "      <td>3377.00</td>\n",
       "      <td>3379.00</td>\n",
       "      <td>3372.00</td>\n",
       "      <td>3341.00</td>\n",
       "      <td>3322.00</td>\n",
       "    </tr>\n",
       "    <tr>\n",
       "      <th>3</th>\n",
       "      <td>4</td>\n",
       "      <td>Algeria</td>\n",
       "      <td>2901</td>\n",
       "      <td>Grand Total</td>\n",
       "      <td>674</td>\n",
       "      <td>Protein supply quantity (g/capita/day)</td>\n",
       "      <td>g/capita/day</td>\n",
       "      <td>94.90</td>\n",
       "      <td>94.35</td>\n",
       "      <td>94.72</td>\n",
       "      <td>92.82</td>\n",
       "      <td>91.83</td>\n",
       "    </tr>\n",
       "    <tr>\n",
       "      <th>4</th>\n",
       "      <td>4</td>\n",
       "      <td>Algeria</td>\n",
       "      <td>2901</td>\n",
       "      <td>Grand Total</td>\n",
       "      <td>684</td>\n",
       "      <td>Fat supply quantity (g/capita/day)</td>\n",
       "      <td>g/capita/day</td>\n",
       "      <td>80.06</td>\n",
       "      <td>79.36</td>\n",
       "      <td>77.40</td>\n",
       "      <td>80.19</td>\n",
       "      <td>77.28</td>\n",
       "    </tr>\n",
       "  </tbody>\n",
       "</table>\n",
       "</div>"
      ],
      "text/plain": [
       "   Area Code     Area  Item Code         Item  Element Code  \\\n",
       "0          4  Algeria       2501   Population           511   \n",
       "1          4  Algeria       2501   Population          5301   \n",
       "2          4  Algeria       2901  Grand Total           664   \n",
       "3          4  Algeria       2901  Grand Total           674   \n",
       "4          4  Algeria       2901  Grand Total           684   \n",
       "\n",
       "                                  Element             Unit     Y2014  \\\n",
       "0           Total Population - Both sexes     1000 persons  38924.00   \n",
       "1                Domestic supply quantity      1000 tonnes      0.00   \n",
       "2           Food supply (kcal/capita/day)  kcal/capita/day   3377.00   \n",
       "3  Protein supply quantity (g/capita/day)     g/capita/day     94.90   \n",
       "4      Fat supply quantity (g/capita/day)     g/capita/day     80.06   \n",
       "\n",
       "      Y2015     Y2016     Y2017     Y2018  \n",
       "0  39728.00  40551.00  41389.00  42228.00  \n",
       "1      0.00      0.00      0.00      0.00  \n",
       "2   3379.00   3372.00   3341.00   3322.00  \n",
       "3     94.35     94.72     92.82     91.83  \n",
       "4     79.36     77.40     80.19     77.28  "
      ]
     },
     "execution_count": 2,
     "metadata": {},
     "output_type": "execute_result"
    }
   ],
   "source": [
    "food_df = pd.read_csv('FoodBalanceSheets_E_Africa_NOFLAG.csv',encoding=\"ISO-8859-1\")\n",
    "food_df.head()"
   ]
  },
  {
   "cell_type": "markdown",
   "metadata": {},
   "source": [
    "food_df.shape"
   ]
  },
  {
   "cell_type": "markdown",
   "metadata": {},
   "source": [
    "# 11"
   ]
  },
  {
   "cell_type": "code",
   "execution_count": 6,
   "metadata": {
    "scrolled": true
   },
   "outputs": [
    {
     "data": {
      "text/html": [
       "<div>\n",
       "<style scoped>\n",
       "    .dataframe tbody tr th:only-of-type {\n",
       "        vertical-align: middle;\n",
       "    }\n",
       "\n",
       "    .dataframe tbody tr th {\n",
       "        vertical-align: top;\n",
       "    }\n",
       "\n",
       "    .dataframe thead th {\n",
       "        text-align: right;\n",
       "    }\n",
       "</style>\n",
       "<table border=\"1\" class=\"dataframe\">\n",
       "  <thead>\n",
       "    <tr style=\"text-align: right;\">\n",
       "      <th></th>\n",
       "      <th>Y2014</th>\n",
       "      <th>Y2017</th>\n",
       "    </tr>\n",
       "    <tr>\n",
       "      <th>Item</th>\n",
       "      <th></th>\n",
       "      <th></th>\n",
       "    </tr>\n",
       "  </thead>\n",
       "  <tbody>\n",
       "    <tr>\n",
       "      <th>Alcohol, Non-Food</th>\n",
       "      <td>2403.00</td>\n",
       "      <td>2348.00</td>\n",
       "    </tr>\n",
       "    <tr>\n",
       "      <th>Alcoholic Beverages</th>\n",
       "      <td>102410.11</td>\n",
       "      <td>95581.06</td>\n",
       "    </tr>\n",
       "    <tr>\n",
       "      <th>Animal Products</th>\n",
       "      <td>11935.65</td>\n",
       "      <td>11547.65</td>\n",
       "    </tr>\n",
       "    <tr>\n",
       "      <th>Animal fats</th>\n",
       "      <td>209460.54</td>\n",
       "      <td>269617.53</td>\n",
       "    </tr>\n",
       "    <tr>\n",
       "      <th>Apples and products</th>\n",
       "      <td>9499.23</td>\n",
       "      <td>10198.90</td>\n",
       "    </tr>\n",
       "    <tr>\n",
       "      <th>...</th>\n",
       "      <td>...</td>\n",
       "      <td>...</td>\n",
       "    </tr>\n",
       "    <tr>\n",
       "      <th>Vegetables, Other</th>\n",
       "      <td>155038.96</td>\n",
       "      <td>157752.59</td>\n",
       "    </tr>\n",
       "    <tr>\n",
       "      <th>Vegetal Products</th>\n",
       "      <td>107145.19</td>\n",
       "      <td>107655.20</td>\n",
       "    </tr>\n",
       "    <tr>\n",
       "      <th>Wheat and products</th>\n",
       "      <td>232670.13</td>\n",
       "      <td>240047.62</td>\n",
       "    </tr>\n",
       "    <tr>\n",
       "      <th>Wine</th>\n",
       "      <td>4497.36</td>\n",
       "      <td>4178.02</td>\n",
       "    </tr>\n",
       "    <tr>\n",
       "      <th>Yams</th>\n",
       "      <td>200396.96</td>\n",
       "      <td>229174.59</td>\n",
       "    </tr>\n",
       "  </tbody>\n",
       "</table>\n",
       "<p>119 rows × 2 columns</p>\n",
       "</div>"
      ],
      "text/plain": [
       "                         Y2014      Y2017\n",
       "Item                                     \n",
       "Alcohol, Non-Food      2403.00    2348.00\n",
       "Alcoholic Beverages  102410.11   95581.06\n",
       "Animal Products       11935.65   11547.65\n",
       "Animal fats          209460.54  269617.53\n",
       "Apples and products    9499.23   10198.90\n",
       "...                        ...        ...\n",
       "Vegetables, Other    155038.96  157752.59\n",
       "Vegetal Products     107145.19  107655.20\n",
       "Wheat and products   232670.13  240047.62\n",
       "Wine                   4497.36    4178.02\n",
       "Yams                 200396.96  229174.59\n",
       "\n",
       "[119 rows x 2 columns]"
      ]
     },
     "execution_count": 6,
     "metadata": {},
     "output_type": "execute_result"
    }
   ],
   "source": [
    "food_df.groupby('Item')['Y2014','Y2017'].sum()"
   ]
  },
  {
   "cell_type": "markdown",
   "metadata": {},
   "source": [
    "# 12"
   ]
  },
  {
   "cell_type": "code",
   "execution_count": 16,
   "metadata": {},
   "outputs": [
    {
     "data": {
      "text/plain": [
       "count     59395.000000\n",
       "mean        135.235966\n",
       "std        1603.403984\n",
       "min       -3161.000000\n",
       "25%           0.000000\n",
       "50%           0.080000\n",
       "75%           8.460000\n",
       "max      181137.000000\n",
       "Name: Y2015, dtype: float64"
      ]
     },
     "execution_count": 16,
     "metadata": {},
     "output_type": "execute_result"
    }
   ],
   "source": [
    "food_df['Y2015'].describe()"
   ]
  },
  {
   "cell_type": "markdown",
   "metadata": {},
   "source": [
    "# 13"
   ]
  },
  {
   "cell_type": "code",
   "execution_count": 28,
   "metadata": {
    "scrolled": true
   },
   "outputs": [
    {
     "data": {
      "text/plain": [
       "Area Code          0\n",
       "Area               0\n",
       "Item Code          0\n",
       "Item               0\n",
       "Element Code       0\n",
       "Element            0\n",
       "Unit               0\n",
       "Y2014           1589\n",
       "Y2015           1548\n",
       "Y2016           1535\n",
       "Y2017           1506\n",
       "Y2018           1436\n",
       "dtype: int64"
      ]
     },
     "execution_count": 28,
     "metadata": {},
     "output_type": "execute_result"
    }
   ],
   "source": [
    "food_df.isna().sum()"
   ]
  },
  {
   "cell_type": "code",
   "execution_count": 8,
   "metadata": {},
   "outputs": [
    {
     "data": {
      "text/plain": [
       "Area Code       0.000000\n",
       "Area            0.000000\n",
       "Item Code       0.000000\n",
       "Item            0.000000\n",
       "Element Code    0.000000\n",
       "Element         0.000000\n",
       "Unit            0.000000\n",
       "Y2014           2.607354\n",
       "Y2015           2.540078\n",
       "Y2016           2.518747\n",
       "Y2017           2.471162\n",
       "Y2018           2.356300\n",
       "dtype: float64"
      ]
     },
     "execution_count": 8,
     "metadata": {},
     "output_type": "execute_result"
    }
   ],
   "source": [
    "food_df.isna().sum()/food_df.shape[0]*100"
   ]
  },
  {
   "cell_type": "markdown",
   "metadata": {},
   "source": [
    "# 14"
   ]
  },
  {
   "cell_type": "code",
   "execution_count": 29,
   "metadata": {
    "scrolled": true
   },
   "outputs": [
    {
     "data": {
      "text/html": [
       "<div>\n",
       "<style scoped>\n",
       "    .dataframe tbody tr th:only-of-type {\n",
       "        vertical-align: middle;\n",
       "    }\n",
       "\n",
       "    .dataframe tbody tr th {\n",
       "        vertical-align: top;\n",
       "    }\n",
       "\n",
       "    .dataframe thead th {\n",
       "        text-align: right;\n",
       "    }\n",
       "</style>\n",
       "<table border=\"1\" class=\"dataframe\">\n",
       "  <thead>\n",
       "    <tr style=\"text-align: right;\">\n",
       "      <th></th>\n",
       "      <th>Area Code</th>\n",
       "      <th>Item Code</th>\n",
       "      <th>Element Code</th>\n",
       "      <th>Y2014</th>\n",
       "      <th>Y2015</th>\n",
       "      <th>Y2016</th>\n",
       "      <th>Y2017</th>\n",
       "      <th>Y2018</th>\n",
       "    </tr>\n",
       "  </thead>\n",
       "  <tbody>\n",
       "    <tr>\n",
       "      <th>Area Code</th>\n",
       "      <td>1.000000</td>\n",
       "      <td>-0.005159</td>\n",
       "      <td>-0.000209</td>\n",
       "      <td>0.006164</td>\n",
       "      <td>0.005472</td>\n",
       "      <td>0.005247</td>\n",
       "      <td>0.005006</td>\n",
       "      <td>0.005665</td>\n",
       "    </tr>\n",
       "    <tr>\n",
       "      <th>Item Code</th>\n",
       "      <td>-0.005159</td>\n",
       "      <td>1.000000</td>\n",
       "      <td>-0.024683</td>\n",
       "      <td>0.021722</td>\n",
       "      <td>0.020857</td>\n",
       "      <td>0.020109</td>\n",
       "      <td>0.021494</td>\n",
       "      <td>0.021314</td>\n",
       "    </tr>\n",
       "    <tr>\n",
       "      <th>Element Code</th>\n",
       "      <td>-0.000209</td>\n",
       "      <td>-0.024683</td>\n",
       "      <td>1.000000</td>\n",
       "      <td>0.024457</td>\n",
       "      <td>0.023889</td>\n",
       "      <td>0.023444</td>\n",
       "      <td>0.024254</td>\n",
       "      <td>0.024279</td>\n",
       "    </tr>\n",
       "    <tr>\n",
       "      <th>Y2014</th>\n",
       "      <td>0.006164</td>\n",
       "      <td>0.021722</td>\n",
       "      <td>0.024457</td>\n",
       "      <td>1.000000</td>\n",
       "      <td>0.994647</td>\n",
       "      <td>0.996081</td>\n",
       "      <td>0.995230</td>\n",
       "      <td>0.994872</td>\n",
       "    </tr>\n",
       "    <tr>\n",
       "      <th>Y2015</th>\n",
       "      <td>0.005472</td>\n",
       "      <td>0.020857</td>\n",
       "      <td>0.023889</td>\n",
       "      <td>0.994647</td>\n",
       "      <td>1.000000</td>\n",
       "      <td>0.995739</td>\n",
       "      <td>0.988048</td>\n",
       "      <td>0.988208</td>\n",
       "    </tr>\n",
       "    <tr>\n",
       "      <th>Y2016</th>\n",
       "      <td>0.005247</td>\n",
       "      <td>0.020109</td>\n",
       "      <td>0.023444</td>\n",
       "      <td>0.996081</td>\n",
       "      <td>0.995739</td>\n",
       "      <td>1.000000</td>\n",
       "      <td>0.992785</td>\n",
       "      <td>0.992757</td>\n",
       "    </tr>\n",
       "    <tr>\n",
       "      <th>Y2017</th>\n",
       "      <td>0.005006</td>\n",
       "      <td>0.021494</td>\n",
       "      <td>0.024254</td>\n",
       "      <td>0.995230</td>\n",
       "      <td>0.988048</td>\n",
       "      <td>0.992785</td>\n",
       "      <td>1.000000</td>\n",
       "      <td>0.998103</td>\n",
       "    </tr>\n",
       "    <tr>\n",
       "      <th>Y2018</th>\n",
       "      <td>0.005665</td>\n",
       "      <td>0.021314</td>\n",
       "      <td>0.024279</td>\n",
       "      <td>0.994872</td>\n",
       "      <td>0.988208</td>\n",
       "      <td>0.992757</td>\n",
       "      <td>0.998103</td>\n",
       "      <td>1.000000</td>\n",
       "    </tr>\n",
       "  </tbody>\n",
       "</table>\n",
       "</div>"
      ],
      "text/plain": [
       "              Area Code  Item Code  Element Code     Y2014     Y2015  \\\n",
       "Area Code      1.000000  -0.005159     -0.000209  0.006164  0.005472   \n",
       "Item Code     -0.005159   1.000000     -0.024683  0.021722  0.020857   \n",
       "Element Code  -0.000209  -0.024683      1.000000  0.024457  0.023889   \n",
       "Y2014          0.006164   0.021722      0.024457  1.000000  0.994647   \n",
       "Y2015          0.005472   0.020857      0.023889  0.994647  1.000000   \n",
       "Y2016          0.005247   0.020109      0.023444  0.996081  0.995739   \n",
       "Y2017          0.005006   0.021494      0.024254  0.995230  0.988048   \n",
       "Y2018          0.005665   0.021314      0.024279  0.994872  0.988208   \n",
       "\n",
       "                 Y2016     Y2017     Y2018  \n",
       "Area Code     0.005247  0.005006  0.005665  \n",
       "Item Code     0.020109  0.021494  0.021314  \n",
       "Element Code  0.023444  0.024254  0.024279  \n",
       "Y2014         0.996081  0.995230  0.994872  \n",
       "Y2015         0.995739  0.988048  0.988208  \n",
       "Y2016         1.000000  0.992785  0.992757  \n",
       "Y2017         0.992785  1.000000  0.998103  \n",
       "Y2018         0.992757  0.998103  1.000000  "
      ]
     },
     "execution_count": 29,
     "metadata": {},
     "output_type": "execute_result"
    }
   ],
   "source": [
    "food_df.corr()"
   ]
  },
  {
   "cell_type": "markdown",
   "metadata": {},
   "source": [
    "# 15"
   ]
  },
  {
   "cell_type": "code",
   "execution_count": 10,
   "metadata": {
    "scrolled": true
   },
   "outputs": [
    {
     "data": {
      "text/plain": [
       "Area Code         688174.00\n",
       "Item Code       13795966.00\n",
       "Element Code    28834929.00\n",
       "Y2014             274144.48\n",
       "Y2015             267018.46\n",
       "Y2016             286582.78\n",
       "Y2017             294559.09\n",
       "Y2018             287997.09\n",
       "Name: Import Quantity, dtype: float64"
      ]
     },
     "execution_count": 10,
     "metadata": {},
     "output_type": "execute_result"
    }
   ],
   "source": [
    "import_quantity = food_df.groupby('Element').sum()\n",
    "import_quantity.loc['Import Quantity']"
   ]
  },
  {
   "cell_type": "markdown",
   "metadata": {},
   "source": [
    "# 16"
   ]
  },
  {
   "cell_type": "code",
   "execution_count": 11,
   "metadata": {},
   "outputs": [
    {
     "data": {
      "text/plain": [
       "1931287.7500000005"
      ]
     },
     "execution_count": 11,
     "metadata": {},
     "output_type": "execute_result"
    }
   ],
   "source": [
    "food_df.groupby('Element')['Y2014'].sum()['Production']"
   ]
  },
  {
   "cell_type": "markdown",
   "metadata": {},
   "source": [
    "# 17"
   ]
  },
  {
   "cell_type": "code",
   "execution_count": 70,
   "metadata": {
    "scrolled": true
   },
   "outputs": [
    {
     "data": {
      "text/html": [
       "<div>\n",
       "<style scoped>\n",
       "    .dataframe tbody tr th:only-of-type {\n",
       "        vertical-align: middle;\n",
       "    }\n",
       "\n",
       "    .dataframe tbody tr th {\n",
       "        vertical-align: top;\n",
       "    }\n",
       "\n",
       "    .dataframe thead th {\n",
       "        text-align: right;\n",
       "    }\n",
       "</style>\n",
       "<table border=\"1\" class=\"dataframe\">\n",
       "  <thead>\n",
       "    <tr style=\"text-align: right;\">\n",
       "      <th></th>\n",
       "      <th>Y2018</th>\n",
       "    </tr>\n",
       "    <tr>\n",
       "      <th>Element</th>\n",
       "      <th></th>\n",
       "    </tr>\n",
       "  </thead>\n",
       "  <tbody>\n",
       "    <tr>\n",
       "      <th>Domestic supply quantity</th>\n",
       "      <td>2161192.10</td>\n",
       "    </tr>\n",
       "    <tr>\n",
       "      <th>Production</th>\n",
       "      <td>2075072.89</td>\n",
       "    </tr>\n",
       "    <tr>\n",
       "      <th>Food</th>\n",
       "      <td>1303841.28</td>\n",
       "    </tr>\n",
       "    <tr>\n",
       "      <th>Total Population - Both sexes</th>\n",
       "      <td>1140605.00</td>\n",
       "    </tr>\n",
       "    <tr>\n",
       "      <th>Food supply (kcal/capita/day)</th>\n",
       "      <td>455261.00</td>\n",
       "    </tr>\n",
       "    <tr>\n",
       "      <th>Processing</th>\n",
       "      <td>308429.00</td>\n",
       "    </tr>\n",
       "    <tr>\n",
       "      <th>Import Quantity</th>\n",
       "      <td>287997.09</td>\n",
       "    </tr>\n",
       "    <tr>\n",
       "      <th>Feed</th>\n",
       "      <td>233489.68</td>\n",
       "    </tr>\n",
       "    <tr>\n",
       "      <th>Export Quantity</th>\n",
       "      <td>181594.80</td>\n",
       "    </tr>\n",
       "    <tr>\n",
       "      <th>Losses</th>\n",
       "      <td>163902.00</td>\n",
       "    </tr>\n",
       "    <tr>\n",
       "      <th>Other uses (non-food)</th>\n",
       "      <td>91300.97</td>\n",
       "    </tr>\n",
       "    <tr>\n",
       "      <th>Food supply quantity (kg/capita/yr)</th>\n",
       "      <td>49056.85</td>\n",
       "    </tr>\n",
       "    <tr>\n",
       "      <th>Residuals</th>\n",
       "      <td>34864.00</td>\n",
       "    </tr>\n",
       "    <tr>\n",
       "      <th>Seed</th>\n",
       "      <td>25263.14</td>\n",
       "    </tr>\n",
       "    <tr>\n",
       "      <th>Stock Variation</th>\n",
       "      <td>20577.91</td>\n",
       "    </tr>\n",
       "    <tr>\n",
       "      <th>Protein supply quantity (g/capita/day)</th>\n",
       "      <td>11833.56</td>\n",
       "    </tr>\n",
       "    <tr>\n",
       "      <th>Fat supply quantity (g/capita/day)</th>\n",
       "      <td>10258.69</td>\n",
       "    </tr>\n",
       "    <tr>\n",
       "      <th>Tourist consumption</th>\n",
       "      <td>90.00</td>\n",
       "    </tr>\n",
       "  </tbody>\n",
       "</table>\n",
       "</div>"
      ],
      "text/plain": [
       "                                             Y2018\n",
       "Element                                           \n",
       "Domestic supply quantity                2161192.10\n",
       "Production                              2075072.89\n",
       "Food                                    1303841.28\n",
       "Total Population - Both sexes           1140605.00\n",
       "Food supply (kcal/capita/day)            455261.00\n",
       "Processing                               308429.00\n",
       "Import Quantity                          287997.09\n",
       "Feed                                     233489.68\n",
       "Export Quantity                          181594.80\n",
       "Losses                                   163902.00\n",
       "Other uses (non-food)                     91300.97\n",
       "Food supply quantity (kg/capita/yr)       49056.85\n",
       "Residuals                                 34864.00\n",
       "Seed                                      25263.14\n",
       "Stock Variation                           20577.91\n",
       "Protein supply quantity (g/capita/day)    11833.56\n",
       "Fat supply quantity (g/capita/day)        10258.69\n",
       "Tourist consumption                          90.00"
      ]
     },
     "execution_count": 70,
     "metadata": {},
     "output_type": "execute_result"
    }
   ],
   "source": [
    "food_df[['Y2018','Element']].groupby('Element').sum().sort_values('Y2018',ascending=False)"
   ]
  },
  {
   "cell_type": "markdown",
   "metadata": {},
   "source": [
    "# 18"
   ]
  },
  {
   "cell_type": "code",
   "execution_count": 12,
   "metadata": {
    "scrolled": true
   },
   "outputs": [
    {
     "data": {
      "text/html": [
       "<div>\n",
       "<style scoped>\n",
       "    .dataframe tbody tr th:only-of-type {\n",
       "        vertical-align: middle;\n",
       "    }\n",
       "\n",
       "    .dataframe tbody tr th {\n",
       "        vertical-align: top;\n",
       "    }\n",
       "\n",
       "    .dataframe thead th {\n",
       "        text-align: right;\n",
       "    }\n",
       "</style>\n",
       "<table border=\"1\" class=\"dataframe\">\n",
       "  <thead>\n",
       "    <tr style=\"text-align: right;\">\n",
       "      <th></th>\n",
       "      <th>Y2018</th>\n",
       "    </tr>\n",
       "    <tr>\n",
       "      <th>Element</th>\n",
       "      <th></th>\n",
       "    </tr>\n",
       "  </thead>\n",
       "  <tbody>\n",
       "    <tr>\n",
       "      <th>Tourist consumption</th>\n",
       "      <td>90.00</td>\n",
       "    </tr>\n",
       "    <tr>\n",
       "      <th>Fat supply quantity (g/capita/day)</th>\n",
       "      <td>10258.69</td>\n",
       "    </tr>\n",
       "    <tr>\n",
       "      <th>Protein supply quantity (g/capita/day)</th>\n",
       "      <td>11833.56</td>\n",
       "    </tr>\n",
       "    <tr>\n",
       "      <th>Stock Variation</th>\n",
       "      <td>20577.91</td>\n",
       "    </tr>\n",
       "    <tr>\n",
       "      <th>Seed</th>\n",
       "      <td>25263.14</td>\n",
       "    </tr>\n",
       "    <tr>\n",
       "      <th>Residuals</th>\n",
       "      <td>34864.00</td>\n",
       "    </tr>\n",
       "    <tr>\n",
       "      <th>Food supply quantity (kg/capita/yr)</th>\n",
       "      <td>49056.85</td>\n",
       "    </tr>\n",
       "    <tr>\n",
       "      <th>Other uses (non-food)</th>\n",
       "      <td>91300.97</td>\n",
       "    </tr>\n",
       "    <tr>\n",
       "      <th>Losses</th>\n",
       "      <td>163902.00</td>\n",
       "    </tr>\n",
       "    <tr>\n",
       "      <th>Export Quantity</th>\n",
       "      <td>181594.80</td>\n",
       "    </tr>\n",
       "    <tr>\n",
       "      <th>Feed</th>\n",
       "      <td>233489.68</td>\n",
       "    </tr>\n",
       "    <tr>\n",
       "      <th>Import Quantity</th>\n",
       "      <td>287997.09</td>\n",
       "    </tr>\n",
       "    <tr>\n",
       "      <th>Processing</th>\n",
       "      <td>308429.00</td>\n",
       "    </tr>\n",
       "    <tr>\n",
       "      <th>Food supply (kcal/capita/day)</th>\n",
       "      <td>455261.00</td>\n",
       "    </tr>\n",
       "    <tr>\n",
       "      <th>Total Population - Both sexes</th>\n",
       "      <td>1140605.00</td>\n",
       "    </tr>\n",
       "    <tr>\n",
       "      <th>Food</th>\n",
       "      <td>1303841.28</td>\n",
       "    </tr>\n",
       "    <tr>\n",
       "      <th>Production</th>\n",
       "      <td>2075072.89</td>\n",
       "    </tr>\n",
       "    <tr>\n",
       "      <th>Domestic supply quantity</th>\n",
       "      <td>2161192.10</td>\n",
       "    </tr>\n",
       "  </tbody>\n",
       "</table>\n",
       "</div>"
      ],
      "text/plain": [
       "                                             Y2018\n",
       "Element                                           \n",
       "Tourist consumption                          90.00\n",
       "Fat supply quantity (g/capita/day)        10258.69\n",
       "Protein supply quantity (g/capita/day)    11833.56\n",
       "Stock Variation                           20577.91\n",
       "Seed                                      25263.14\n",
       "Residuals                                 34864.00\n",
       "Food supply quantity (kg/capita/yr)       49056.85\n",
       "Other uses (non-food)                     91300.97\n",
       "Losses                                   163902.00\n",
       "Export Quantity                          181594.80\n",
       "Feed                                     233489.68\n",
       "Import Quantity                          287997.09\n",
       "Processing                               308429.00\n",
       "Food supply (kcal/capita/day)            455261.00\n",
       "Total Population - Both sexes           1140605.00\n",
       "Food                                    1303841.28\n",
       "Production                              2075072.89\n",
       "Domestic supply quantity                2161192.10"
      ]
     },
     "execution_count": 12,
     "metadata": {},
     "output_type": "execute_result"
    }
   ],
   "source": [
    "food_df[['Y2018','Element']].groupby('Element').sum().sort_values('Y2018',ascending=True)"
   ]
  },
  {
   "cell_type": "markdown",
   "metadata": {},
   "source": [
    "# 19"
   ]
  },
  {
   "cell_type": "code",
   "execution_count": 14,
   "metadata": {},
   "outputs": [
    {
     "data": {
      "text/plain": [
       "36238.29"
      ]
     },
     "execution_count": 14,
     "metadata": {},
     "output_type": "execute_result"
    }
   ],
   "source": [
    "food_df.groupby(['Area','Element'])['Y2018'].sum().loc['Algeria','Import Quantity']"
   ]
  },
  {
   "cell_type": "markdown",
   "metadata": {},
   "source": [
    "# 20"
   ]
  },
  {
   "cell_type": "code",
   "execution_count": 43,
   "metadata": {
    "scrolled": true
   },
   "outputs": [
    {
     "data": {
      "text/plain": [
       "49"
      ]
     },
     "execution_count": 43,
     "metadata": {},
     "output_type": "execute_result"
    }
   ],
   "source": [
    "food_df['Area'].nunique()"
   ]
  }
 ],
 "metadata": {
  "kernelspec": {
   "display_name": "Python 3",
   "language": "python",
   "name": "python3"
  },
  "language_info": {
   "codemirror_mode": {
    "name": "ipython",
    "version": 3
   },
   "file_extension": ".py",
   "mimetype": "text/x-python",
   "name": "python",
   "nbconvert_exporter": "python",
   "pygments_lexer": "ipython3",
   "version": "3.7.6"
  }
 },
 "nbformat": 4,
 "nbformat_minor": 4
}
